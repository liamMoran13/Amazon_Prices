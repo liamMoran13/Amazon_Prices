{
 "cells": [
  {
   "cell_type": "code",
   "execution_count": 240,
   "metadata": {},
   "outputs": [],
   "source": [
    "import requests\n",
    "from bs4 import BeautifulSoup\n",
    "import csv\n",
    "import time\n",
    "import pandas as pd"
   ]
  },
  {
   "cell_type": "code",
   "execution_count": 228,
   "metadata": {},
   "outputs": [],
   "source": [
    "def url_request(url):\n",
    "    #this function takes the url and returns a Beautiful Soup object\n",
    "    response = requests.get(url)\n",
    "    if not response.ok:\n",
    "        print('Server responded:', response.status_code)\n",
    "    else:\n",
    "        soup = BeautifulSoup(response.text, 'lxml')\n",
    "\n",
    "    return soup\n",
    "\n",
    "\n",
    "    "
   ]
  },
  {
   "cell_type": "code",
   "execution_count": 229,
   "metadata": {},
   "outputs": [],
   "source": [
    "def get_detail_data(soup):\n",
    "    #this function gets the datapoints from the BeatifulSoup object and returns a dictionary of the datapoints\n",
    "    try:\n",
    "        title = soup.find('h1', id = 'itemTitle').get_text().replace('\\xa0','')\n",
    "    except:\n",
    "        title = ''\n",
    "    \n",
    "    try:\n",
    "        price = soup.find('span', id = 'prcIsum').get('content')\n",
    "    except:\n",
    "        price = ''\n",
    "    \n",
    "    try:\n",
    "        #units = soup.find('div', class_ = 'w2b-cnt w2b-3 w2b-brdr').text.strip().split(' ')[0]\n",
    "        units = soup.find('a', class_ = 'vi-txt-underline').get_text().split(' ')[0]\n",
    "    except:\n",
    "        units = ''\n",
    "    \n",
    "    try:\n",
    "        ratings_num = soup.find('a', id = '_rvwlnk').get_text().strip()\n",
    "    except:\n",
    "        ratings_num = ''\n",
    "    \n",
    "    try:\n",
    "        seller_name = soup.find('span', class_ = 'mbg-nw').get_text().strip()\n",
    "    except:\n",
    "        seller_name = ''\n",
    "    \n",
    "    try:\n",
    "        seller_ratings = soup.find('span', class_ = 'mbg-l').get_text().strip().replace('\\n)','').replace('(','')\n",
    "    except:\n",
    "        seller_ratings = ''\n",
    "    \n",
    "    try:\n",
    "        seller_feedback_score = soup.find('div', id = 'si-fb').get_text().strip().split('%')[0]\n",
    "    except:\n",
    "        seller_feedback_score = ''\n",
    "        \n",
    "    try:\n",
    "        condition1 = soup.find('span', id = 'vi-cond-addl-info').get_text()\n",
    "    except:\n",
    "        condition1 = ''\n",
    "    \n",
    "    try:\n",
    "        brand = soup.find('h2', itemprop = 'brand').get_text()\n",
    "    except:\n",
    "        brand = ''\n",
    "        \n",
    "    try:\n",
    "        color = soup.find('h2', itemprop = 'color').get_text()\n",
    "    except:\n",
    "        color = ''\n",
    "    \n",
    "    try:\n",
    "        viewed_ph = soup.find('div', id = 'vi_notification_new').get_text().replace('\\n','')\n",
    "    except:\n",
    "        viewed_ph = ''\n",
    "    \n",
    "    \n",
    "    \n",
    "        \n",
    "    data = {'name': title,\n",
    "            'price': price,\n",
    "            'units': units,\n",
    "            'ratings_num': ratings_num,\n",
    "            'seller_name': seller_name,\n",
    "            'seller_ratings': seller_ratings,\n",
    "            'seller_feedback_score': seller_feedback_score,\n",
    "            'condition1': condition1,\n",
    "            'brand': brand,\n",
    "            'color': color,\n",
    "            'viewed_ph': viewed_ph}\n",
    "        \n",
    "    return data"
   ]
  },
  {
   "cell_type": "code",
   "execution_count": 230,
   "metadata": {},
   "outputs": [],
   "source": [
    "def get_page_urls(soup):\n",
    "    #this function takes the search page and returns the urls of each line item\n",
    "    try:\n",
    "        links = soup.find_all('a', class_='s-item__link')\n",
    "    except:\n",
    "        links = []\n",
    "    urls = [item.get('href') for item in links]\n",
    "    #http://localhost:8888/notebooks/Users/lmoran/Data_Projects/Amazon_Prices/1.Web-scraping%20Amazon.ipynb#\n",
    "    return urls\n",
    "    "
   ]
  },
  {
   "cell_type": "code",
   "execution_count": 231,
   "metadata": {},
   "outputs": [],
   "source": [
    "def write_csv(data, link):\n",
    "    #this function adds the datapoints to the csv\n",
    "    with open('output4.csv', 'a') as csvfile:\n",
    "        writer = csv.writer(csvfile)\n",
    "        \n",
    "        row = [data['name'], data['price'], data['units'], \n",
    "               data['ratings_num'], data['seller_name'],\n",
    "               data['seller_ratings'], data['seller_feedback_score'],\n",
    "               data['condition1'], data['brand'], data['color'], data['viewed_ph']]\n",
    "        \n",
    "        writer.writerow(row)"
   ]
  },
  {
   "cell_type": "code",
   "execution_count": 238,
   "metadata": {},
   "outputs": [],
   "source": [
    "def main():\n",
    "    \n",
    "    #i have run this with 4 url page and will need to combine the csvs \n",
    "    url = 'https://www.ebay.com/sch/i.html?_nkw=watches&_ipg=200&_pgn=6'\n",
    "    products = get_page_urls(url_request(url))\n",
    "        \n",
    "\n",
    "    for links in products:\n",
    "        data = get_detail_data(url_request(links))\n",
    "        write_csv(data, links)\n",
    "        #print(data)\n",
    "    "
   ]
  },
  {
   "cell_type": "code",
   "execution_count": null,
   "metadata": {},
   "outputs": [],
   "source": []
  },
  {
   "cell_type": "code",
   "execution_count": null,
   "metadata": {},
   "outputs": [],
   "source": []
  },
  {
   "cell_type": "code",
   "execution_count": 239,
   "metadata": {},
   "outputs": [],
   "source": [
    "if __name__ == '__main__':\n",
    "    main()"
   ]
  },
  {
   "cell_type": "code",
   "execution_count": null,
   "metadata": {},
   "outputs": [],
   "source": []
  },
  {
   "cell_type": "code",
   "execution_count": 243,
   "metadata": {},
   "outputs": [],
   "source": [
    "filenames = ['output1.csv','output2.csv','output3.csv','output4.csv']\n",
    "\n",
    "combined_csv = pd.concat( [ pd.read_csv(f,encoding='cp1252') for f in filenames ] )\n",
    "\n",
    "combined_csv.to_csv('dataset.csv')"
   ]
  },
  {
   "cell_type": "code",
   "execution_count": null,
   "metadata": {},
   "outputs": [],
   "source": []
  },
  {
   "cell_type": "code",
   "execution_count": null,
   "metadata": {},
   "outputs": [],
   "source": []
  }
 ],
 "metadata": {
  "kernelspec": {
   "display_name": "Python 3",
   "language": "python",
   "name": "python3"
  },
  "language_info": {
   "codemirror_mode": {
    "name": "ipython",
    "version": 3
   },
   "file_extension": ".py",
   "mimetype": "text/x-python",
   "name": "python",
   "nbconvert_exporter": "python",
   "pygments_lexer": "ipython3",
   "version": "3.7.6"
  }
 },
 "nbformat": 4,
 "nbformat_minor": 4
}
